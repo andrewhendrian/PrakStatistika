{
  "nbformat": 4,
  "nbformat_minor": 0,
  "metadata": {
    "colab": {
      "provenance": []
    },
    "kernelspec": {
      "name": "python3",
      "display_name": "Python 3"
    },
    "language_info": {
      "name": "python"
    }
  },
  "cells": [
    {
      "cell_type": "code",
      "execution_count": 1,
      "metadata": {
        "colab": {
          "base_uri": "https://localhost:8080/"
        },
        "id": "A7t_uZ2z-bgD",
        "outputId": "a5afe19f-fa7b-420d-bdac-0b6debaf2e07"
      },
      "outputs": [
        {
          "output_type": "stream",
          "name": "stdout",
          "text": [
            "Probabilitas tinggi kurang dari 189 cm: 0.8413447460685429\n"
          ]
        }
      ],
      "source": [
        "from scipy.stats import norm\n",
        "\n",
        "#Menentukan rata-rata dan standar deviasi\n",
        "mean = 184 #rata-rata\n",
        "std_dev = 5 #standar deviasi\n",
        "\n",
        "#menghitung probabilitas tinggi kurang dari 189 cm\n",
        "height = 189\n",
        "prob_less_than_189 = norm.cdf(height, mean, std_dev)\n",
        "\n",
        "#menampilkan hasil\n",
        "print(\"Probabilitas tinggi kurang dari 189 cm:\", prob_less_than_189)"
      ]
    },
    {
      "cell_type": "code",
      "source": [
        "from scipy.stats import norm\n",
        "\n",
        "#Menentukan rata-rata dan standar deviasi\n",
        "mean = 184 #rata-rata\n",
        "std_dev = 5 #standar deviasi\n",
        "\n",
        "#Menghitung probabilitas tinggi kurang dari 174 cm\n",
        "prob_less_than_174 = norm.cdf(174, mean, std_dev)\n",
        "\n",
        "#Menghitung probabilitas tinggi kurang dari 199 cm\n",
        "prob_less_than_199 = norm.cdf(199, mean, std_dev)\n",
        "\n",
        "#Kemungkinan antara 174 cm dan 199 cm adalah selisih antara probabilitas kurang dari 199 dan kurang dari 174\n",
        "prob_between_174_and_199 = prob_less_than_199 - prob_less_than_174\n",
        "\n",
        "#Menampilkan hasil\n",
        "print(\"Probabilitas tinggi antara 174 cm dan 199 cm:\", prob_between_174_and_199)"
      ],
      "metadata": {
        "colab": {
          "base_uri": "https://localhost:8080/"
        },
        "id": "fBNkCMWD_a-1",
        "outputId": "20cfeb60-13be-4872-df28-359b61cf6b26"
      },
      "execution_count": 2,
      "outputs": [
        {
          "output_type": "stream",
          "name": "stdout",
          "text": [
            "Probabilitas tinggi antara 174 cm dan 199 cm: 0.9758999700201907\n"
          ]
        }
      ]
    },
    {
      "cell_type": "code",
      "source": [
        "from scipy.stats import norm\n",
        "\n",
        "#Menentukan rata-rata dan standar deviasi\n",
        "mean = 173 #rata-rata\n",
        "std_dev = 34 #standar deviasi\n",
        "\n",
        "#Menghitung probabilitas apel berkualitas \"not good\" (berat kurang dari 120 gram)\n",
        "prob_not_good = norm.cdf(120, mean, std_dev)\n",
        "\n",
        "#Menampilkan hasil\n",
        "print(\"Peluang apel yang berkualitas 'not good': {:.4f}\".format(prob_not_good))"
      ],
      "metadata": {
        "colab": {
          "base_uri": "https://localhost:8080/"
        },
        "id": "vHBQjezdAYkc",
        "outputId": "e02aedf1-771a-4743-ff86-3f78b87a655a"
      },
      "execution_count": 4,
      "outputs": [
        {
          "output_type": "stream",
          "name": "stdout",
          "text": [
            "Peluang apel yang berkualitas 'not good': 0.0595\n"
          ]
        }
      ]
    },
    {
      "cell_type": "code",
      "source": [
        "#Definisi laju kedatangan dan laju pelayanan\n",
        "arrival_rate = 1/10 #pelanggan per menit\n",
        "service_rate = 1/8 #pelanggan per menit\n",
        "\n",
        "#Menghitung rata-rata jumlah pelanggan dalam sistem (L)\n",
        "L = arrival_rate / (service_rate - arrival_rate)\n",
        "\n",
        "#Menghitung rata-rata waktu setiap pelanggan berada dalam sistem (W)\n",
        "W = L / arrival_rate\n",
        "\n",
        "#Menampilkan hasil\n",
        "print(\"Rata-rata jumlah pelanggan dalam sistem (L): {:.2f}\".format(L))\n",
        "print(\"Rata-rata waktu setiap pelanggan berada dalam sistem (W): {:.2f}\".format(W))"
      ],
      "metadata": {
        "colab": {
          "base_uri": "https://localhost:8080/"
        },
        "id": "c_FuEhdUBFFk",
        "outputId": "e7f55b6e-59a6-48a0-85a4-28350239fadf"
      },
      "execution_count": 6,
      "outputs": [
        {
          "output_type": "stream",
          "name": "stdout",
          "text": [
            "Rata-rata jumlah pelanggan dalam sistem (L): 4.00\n",
            "Rata-rata waktu setiap pelanggan berada dalam sistem (W): 40.00\n"
          ]
        }
      ]
    },
    {
      "cell_type": "code",
      "source": [
        "from scipy.stats import expon\n",
        "\n",
        "#Rerata waktu pelayanan (mu)\n",
        "mean_service_time = 7 #menit\n",
        "\n",
        "#Menghitung peluang seseorang dilayani antara 3 sampai 5 menit\n",
        "prob_between_3_and_5 = expon.cdf(5, scale=mean_service_time) - expon.cdf(3, scale=mean_service_time)\n",
        "\n",
        "#Menampilkan hasil\n",
        "print(\"Peluang seseorang dilayani antara 3 sampai 5 menit: {:.7f}\".format(prob_between_3_and_5))"
      ],
      "metadata": {
        "colab": {
          "base_uri": "https://localhost:8080/"
        },
        "id": "-xuG6bjmCS40",
        "outputId": "358c8c8a-d52a-4b81-bb3f-eb1e9a7d80e3"
      },
      "execution_count": 7,
      "outputs": [
        {
          "output_type": "stream",
          "name": "stdout",
          "text": [
            "Peluang seseorang dilayani antara 3 sampai 5 menit: 0.1618974\n"
          ]
        }
      ]
    },
    {
      "cell_type": "code",
      "source": [
        "from scipy.stats import poisson\n",
        "\n",
        "#Rata-rata pelanggan per menit(λ)\n",
        "mean_arrival_rate = 5\n",
        "\n",
        "#Menghitung peluang lebih dari 6 pelanggan tiba dalam periode 2 menit\n",
        "prob_more_than_6_arrivals = 1 - poisson.cdf(6, mu=mean_arrival_rate * 2)\n",
        "\n",
        "#Menampilkan hasil\n",
        "print(\"Peluang lebih dari 6 pelanggan akan tiba dalam periode 2 menit berikutnya: {:.7f}\".format(prob_more_than_6_arrivals))"
      ],
      "metadata": {
        "colab": {
          "base_uri": "https://localhost:8080/"
        },
        "id": "mSo5jZsyC9MP",
        "outputId": "0973f76c-e15c-4a6a-d54b-7508aea45b89"
      },
      "execution_count": 10,
      "outputs": [
        {
          "output_type": "stream",
          "name": "stdout",
          "text": [
            "Peluang lebih dari 6 pelanggan akan tiba dalam periode 2 menit berikutnya: 0.8698586\n"
          ]
        }
      ]
    },
    {
      "cell_type": "code",
      "source": [
        "from scipy.stats import norm\n",
        "\n",
        "#Menentukan rata-rata dan standar deviasi\n",
        "mean = 184 #rata-rata\n",
        "std_dev = 5 #standar deviasi\n",
        "\n",
        "#Probabilitas tinggi lebih tinggi dari tinggi tertentu\n",
        "prob_more_than = 1 - 0.1685\n",
        "\n",
        "#Menggunakan fungsi quantile untuk menemukan tinggi yang sesuai\n",
        "height = norm.ppf(prob_more_than, mean, std_dev)\n",
        "\n",
        "#Menampilkan hasil\n",
        "print(\"Tinggi sedemikian rupa sehingga 16,85% pemain basket lebih tinggi dari {:.2f}cm\".format(height))"
      ],
      "metadata": {
        "colab": {
          "base_uri": "https://localhost:8080/"
        },
        "id": "Iz6OZky_E2ua",
        "outputId": "d95f2f60-7eb2-4aec-9910-1639ea3f30bc"
      },
      "execution_count": 11,
      "outputs": [
        {
          "output_type": "stream",
          "name": "stdout",
          "text": [
            "Tinggi sedemikian rupa sehingga 16,85% pemain basket lebih tinggi dari 188.80cm\n"
          ]
        }
      ]
    },
    {
      "cell_type": "code",
      "source": [
        "from scipy.stats import binom\n",
        "\n",
        "#Menentukan parameter distribusi binomial\n",
        "n = 8 #total jumlah apel\n",
        "p = 0.06 #probabilitas apel berkualitas \"not good\"\n",
        "\n",
        "#Menghitung probabilitas jumlah apel berkualitas \"not good\" kurang dari atau sama dengan 2\n",
        "prob_not_good_2_or_less = binom.cdf(2, n, p)\n",
        "\n",
        "#Menampilkan hasil\n",
        "print(\"Probabilitas kurang dari atau sama dengan 2 apel berkualitas 'not good': {:.7f}\".format(prob_not_good_2_or_less))"
      ],
      "metadata": {
        "colab": {
          "base_uri": "https://localhost:8080/"
        },
        "id": "iJwEfVnmF7HX",
        "outputId": "572622f7-3b06-488c-ffb6-c655a1495372"
      },
      "execution_count": 13,
      "outputs": [
        {
          "output_type": "stream",
          "name": "stdout",
          "text": [
            "Probabilitas kurang dari atau sama dengan 2 apel berkualitas 'not good': 0.9903771\n"
          ]
        }
      ]
    },
    {
      "cell_type": "code",
      "source": [
        "#Definisi laju kedatangan dan laju pelayanan\n",
        "arrival_rate_new = 1/16 #pelanggan per menit\n",
        "\n",
        "#Menhitung ulang rata-rata jumlah pelanggan dalam sistem (L)\n",
        "L_new = arrival_rate_new / (service_rate - arrival_rate_new)\n",
        "\n",
        "#Menghitung ulang rata-rata waktu setiap pelanggan berada dalam sistem (W)\n",
        "W_new = L_new / arrival_rate_new\n",
        "\n",
        "#Menampilkan hasil\n",
        "print(\"Rata-rata jumlah pelanggan dalam sistem (L) setelah perubahan: {:2f}\".format(L_new))\n",
        "print(\"Rata-rata wakatu setiap pelanggan berada dalam sistem (W) setelah perubahan: {:.2f}\".format(W_new))"
      ],
      "metadata": {
        "colab": {
          "base_uri": "https://localhost:8080/"
        },
        "id": "HhnxJSaXHNyu",
        "outputId": "12d97d76-e786-487b-c72b-f0b0eeeffa02"
      },
      "execution_count": 14,
      "outputs": [
        {
          "output_type": "stream",
          "name": "stdout",
          "text": [
            "Rata-rata jumlah pelanggan dalam sistem (L) setelah perubahan: 1.000000\n",
            "Rata-rata wakatu setiap pelanggan berada dalam sistem (W) setelah perubahan: 16.00\n"
          ]
        }
      ]
    },
    {
      "cell_type": "code",
      "source": [
        "from scipy.stats import expon\n",
        "\n",
        "#Rerata waktu pelayanan (mu)\n",
        "mean_service_time = 7 #menit\n",
        "\n",
        "#Menghitung peluang seseorang mendapatkan pelayanan lebih dari 8 menit\n",
        "prob_more_than_8_minutes = 1 - expon.cdf(8, scale=mean_service_time)\n",
        "\n",
        "#Menampilkan hasil\n",
        "print(\"Peluang seseorang mendapatkan pelayanan lebih dari 8 menit: {:.7f}\".format(prob_more_than_8_minutes))"
      ],
      "metadata": {
        "colab": {
          "base_uri": "https://localhost:8080/"
        },
        "id": "xgzveOJqIWNn",
        "outputId": "04877779-cea2-48a0-dc75-6c7cd7433560"
      },
      "execution_count": 15,
      "outputs": [
        {
          "output_type": "stream",
          "name": "stdout",
          "text": [
            "Peluang seseorang mendapatkan pelayanan lebih dari 8 menit: 0.3189066\n"
          ]
        }
      ]
    },
    {
      "cell_type": "code",
      "source": [
        "from scipy.stats import poisson\n",
        "\n",
        "#Rata-rata pelanggan per menit\n",
        "mean_arrival_rate = 5\n",
        "\n",
        "#Menghitung peluang tepat 4 pelanggan akan datang dalam 1 menit\n",
        "prob_4_arrivals = poisson.pmf(4, mu=mean_arrival_rate)\n",
        "\n",
        "#Menampilkan hasil\n",
        "print(\"Peluang bahwa dalam 1 menit berikutnya terdapat tepat 4 pelanggan yang akan datang: {:.7f}\".format(prob_4_arrivals))"
      ],
      "metadata": {
        "colab": {
          "base_uri": "https://localhost:8080/"
        },
        "id": "1IAAWGkdI_mh",
        "outputId": "7aa8b38a-101d-4226-fdb9-c6760430d75a"
      },
      "execution_count": 16,
      "outputs": [
        {
          "output_type": "stream",
          "name": "stdout",
          "text": [
            "Peluang bahwa dalam 1 menit berikutnya terdapat tepat 4 pelanggan yang akan datang: 0.1754674\n"
          ]
        }
      ]
    },
    {
      "cell_type": "code",
      "source": [
        "from scipy.stats import poisson\n",
        "\n",
        "#Rata-rata pelanggan per menit\n",
        "mean_arrival_rate = 5\n",
        "\n",
        "#Menghitung rata-rata jumlah kedatangan selama periode 1 jam\n",
        "mean_arrivals_per_hour = mean_arrival_rate * 60 #60 menit dalam 1 jam\n",
        "\n",
        "#Menampilkan hasil\n",
        "print(\"Rata-rata jumlah kedatangan selama periode 1 jam: {:.2f}\".format(mean_arrivals_per_hour))"
      ],
      "metadata": {
        "colab": {
          "base_uri": "https://localhost:8080/"
        },
        "id": "9lZZ69kQJiPv",
        "outputId": "616ccc64-1734-4171-b691-a6e5e429581f"
      },
      "execution_count": 17,
      "outputs": [
        {
          "output_type": "stream",
          "name": "stdout",
          "text": [
            "Rata-rata jumlah kedatangan selama periode 1 jam: 300.00\n"
          ]
        }
      ]
    }
  ]
}